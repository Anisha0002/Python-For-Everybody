{
 "cells": [
  {
   "cell_type": "markdown",
   "id": "c42e6169",
   "metadata": {},
   "source": [
    "# Words, Sentences"
   ]
  },
  {
   "cell_type": "code",
   "execution_count": 1,
   "id": "6faf8413",
   "metadata": {},
   "outputs": [
    {
     "name": "stdout",
     "output_type": "stream",
     "text": [
      "Hello world!\n"
     ]
    }
   ],
   "source": [
    "print('Hello world!')"
   ]
  },
  {
   "cell_type": "markdown",
   "id": "bb82ce05",
   "metadata": {},
   "source": [
    "# Conversing with Python"
   ]
  },
  {
   "cell_type": "code",
   "execution_count": 2,
   "id": "22819755",
   "metadata": {},
   "outputs": [
    {
     "name": "stdout",
     "output_type": "stream",
     "text": [
      "You must be the legendary god that comes from the sky\n"
     ]
    }
   ],
   "source": [
    "print('You must be the legendary god that comes from the sky')"
   ]
  }
 ],
 "metadata": {
  "kernelspec": {
   "display_name": "Python 3",
   "language": "python",
   "name": "python3"
  },
  "language_info": {
   "codemirror_mode": {
    "name": "ipython",
    "version": 3
   },
   "file_extension": ".py",
   "mimetype": "text/x-python",
   "name": "python",
   "nbconvert_exporter": "python",
   "pygments_lexer": "ipython3",
   "version": "3.13.5"
  }
 },
 "nbformat": 4,
 "nbformat_minor": 5
}
